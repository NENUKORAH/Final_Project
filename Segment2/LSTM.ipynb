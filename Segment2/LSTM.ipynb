{
 "cells": [
  {
   "cell_type": "code",
   "execution_count": 4,
   "source": [
    "pip install pandas-datareader"
   ],
   "outputs": [
    {
     "output_type": "stream",
     "name": "stdout",
     "text": [
      "Collecting pandas-datareader\n",
      "  Downloading pandas_datareader-0.10.0-py3-none-any.whl (109 kB)\n",
      "Requirement already satisfied: requests>=2.19.0 in c:\\anaconda\\envs\\mlenv\\lib\\site-packages (from pandas-datareader) (2.25.1)\n",
      "Requirement already satisfied: lxml in c:\\anaconda\\envs\\mlenv\\lib\\site-packages (from pandas-datareader) (4.6.3)\n",
      "Requirement already satisfied: pandas>=0.23 in c:\\anaconda\\envs\\mlenv\\lib\\site-packages (from pandas-datareader) (1.2.4)\n",
      "Requirement already satisfied: numpy>=1.16.5 in c:\\anaconda\\envs\\mlenv\\lib\\site-packages (from pandas>=0.23->pandas-datareader) (1.19.5)\n",
      "Requirement already satisfied: python-dateutil>=2.7.3 in c:\\anaconda\\envs\\mlenv\\lib\\site-packages (from pandas>=0.23->pandas-datareader) (2.8.1)\n",
      "Requirement already satisfied: pytz>=2017.3 in c:\\anaconda\\envs\\mlenv\\lib\\site-packages (from pandas>=0.23->pandas-datareader) (2021.1)\n",
      "Requirement already satisfied: six>=1.5 in c:\\anaconda\\envs\\mlenv\\lib\\site-packages (from python-dateutil>=2.7.3->pandas>=0.23->pandas-datareader) (1.15.0)\n",
      "Requirement already satisfied: idna<3,>=2.5 in c:\\anaconda\\envs\\mlenv\\lib\\site-packages (from requests>=2.19.0->pandas-datareader) (2.10)\n",
      "Requirement already satisfied: urllib3<1.27,>=1.21.1 in c:\\anaconda\\envs\\mlenv\\lib\\site-packages (from requests>=2.19.0->pandas-datareader) (1.26.4)\n",
      "Requirement already satisfied: chardet<5,>=3.0.2 in c:\\anaconda\\envs\\mlenv\\lib\\site-packages (from requests>=2.19.0->pandas-datareader) (4.0.0)\n",
      "Requirement already satisfied: certifi>=2017.4.17 in c:\\anaconda\\envs\\mlenv\\lib\\site-packages (from requests>=2.19.0->pandas-datareader) (2020.12.5)\n",
      "Installing collected packages: pandas-datareader\n",
      "Successfully installed pandas-datareader-0.10.0\n",
      "Note: you may need to restart the kernel to use updated packages.\n"
     ]
    }
   ],
   "metadata": {}
  },
  {
   "cell_type": "code",
   "execution_count": 1,
   "source": [
    "# Import Libraries\r\n",
    "import pandas_datareader as web\r\n",
    "import numpy as np\r\n",
    "import pandas as pd\r\n",
    "import math\r\n",
    "from sklearn.preprocessing import MinMaxScaler\r\n",
    "from keras.models import Sequential\r\n",
    "from keras.layers import Dense, LSTM\r\n",
    "import matplotlib.pyplot as plt\r\n",
    "plt.style.use('fivethirtyeight')"
   ],
   "outputs": [],
   "metadata": {}
  },
  {
   "cell_type": "code",
   "execution_count": 2,
   "source": [
    "#Get Stock quote\r\n",
    "df = web.DataReader('TSLA', data_source='yahoo', start='2011-01-01', end='2021-01-01')\r\n",
    "print(df.shape)\r\n",
    "df"
   ],
   "outputs": [
    {
     "output_type": "stream",
     "name": "stdout",
     "text": [
      "(2517, 6)\n"
     ]
    },
    {
     "output_type": "execute_result",
     "data": {
      "text/html": [
       "<div>\n",
       "<style scoped>\n",
       "    .dataframe tbody tr th:only-of-type {\n",
       "        vertical-align: middle;\n",
       "    }\n",
       "\n",
       "    .dataframe tbody tr th {\n",
       "        vertical-align: top;\n",
       "    }\n",
       "\n",
       "    .dataframe thead th {\n",
       "        text-align: right;\n",
       "    }\n",
       "</style>\n",
       "<table border=\"1\" class=\"dataframe\">\n",
       "  <thead>\n",
       "    <tr style=\"text-align: right;\">\n",
       "      <th></th>\n",
       "      <th>High</th>\n",
       "      <th>Low</th>\n",
       "      <th>Open</th>\n",
       "      <th>Close</th>\n",
       "      <th>Volume</th>\n",
       "      <th>Adj Close</th>\n",
       "    </tr>\n",
       "    <tr>\n",
       "      <th>Date</th>\n",
       "      <th></th>\n",
       "      <th></th>\n",
       "      <th></th>\n",
       "      <th></th>\n",
       "      <th></th>\n",
       "      <th></th>\n",
       "    </tr>\n",
       "  </thead>\n",
       "  <tbody>\n",
       "    <tr>\n",
       "      <th>2011-01-03</th>\n",
       "      <td>5.400000</td>\n",
       "      <td>5.180000</td>\n",
       "      <td>5.36800</td>\n",
       "      <td>5.324000</td>\n",
       "      <td>6415000.0</td>\n",
       "      <td>5.324000</td>\n",
       "    </tr>\n",
       "    <tr>\n",
       "      <th>2011-01-04</th>\n",
       "      <td>5.390000</td>\n",
       "      <td>5.204000</td>\n",
       "      <td>5.33200</td>\n",
       "      <td>5.334000</td>\n",
       "      <td>5937000.0</td>\n",
       "      <td>5.334000</td>\n",
       "    </tr>\n",
       "    <tr>\n",
       "      <th>2011-01-05</th>\n",
       "      <td>5.380000</td>\n",
       "      <td>5.238000</td>\n",
       "      <td>5.29600</td>\n",
       "      <td>5.366000</td>\n",
       "      <td>7233500.0</td>\n",
       "      <td>5.366000</td>\n",
       "    </tr>\n",
       "    <tr>\n",
       "      <th>2011-01-06</th>\n",
       "      <td>5.600000</td>\n",
       "      <td>5.362000</td>\n",
       "      <td>5.36600</td>\n",
       "      <td>5.576000</td>\n",
       "      <td>10306000.0</td>\n",
       "      <td>5.576000</td>\n",
       "    </tr>\n",
       "    <tr>\n",
       "      <th>2011-01-07</th>\n",
       "      <td>5.716000</td>\n",
       "      <td>5.580000</td>\n",
       "      <td>5.60000</td>\n",
       "      <td>5.648000</td>\n",
       "      <td>11239500.0</td>\n",
       "      <td>5.648000</td>\n",
       "    </tr>\n",
       "    <tr>\n",
       "      <th>...</th>\n",
       "      <td>...</td>\n",
       "      <td>...</td>\n",
       "      <td>...</td>\n",
       "      <td>...</td>\n",
       "      <td>...</td>\n",
       "      <td>...</td>\n",
       "    </tr>\n",
       "    <tr>\n",
       "      <th>2020-12-24</th>\n",
       "      <td>666.090027</td>\n",
       "      <td>641.000000</td>\n",
       "      <td>642.98999</td>\n",
       "      <td>661.770020</td>\n",
       "      <td>22865600.0</td>\n",
       "      <td>661.770020</td>\n",
       "    </tr>\n",
       "    <tr>\n",
       "      <th>2020-12-28</th>\n",
       "      <td>681.400024</td>\n",
       "      <td>660.799988</td>\n",
       "      <td>674.51001</td>\n",
       "      <td>663.690002</td>\n",
       "      <td>32278600.0</td>\n",
       "      <td>663.690002</td>\n",
       "    </tr>\n",
       "    <tr>\n",
       "      <th>2020-12-29</th>\n",
       "      <td>669.900024</td>\n",
       "      <td>655.000000</td>\n",
       "      <td>661.00000</td>\n",
       "      <td>665.989990</td>\n",
       "      <td>22910800.0</td>\n",
       "      <td>665.989990</td>\n",
       "    </tr>\n",
       "    <tr>\n",
       "      <th>2020-12-30</th>\n",
       "      <td>696.599976</td>\n",
       "      <td>668.359985</td>\n",
       "      <td>672.00000</td>\n",
       "      <td>694.780029</td>\n",
       "      <td>42846000.0</td>\n",
       "      <td>694.780029</td>\n",
       "    </tr>\n",
       "    <tr>\n",
       "      <th>2020-12-31</th>\n",
       "      <td>718.719971</td>\n",
       "      <td>691.119995</td>\n",
       "      <td>699.98999</td>\n",
       "      <td>705.669983</td>\n",
       "      <td>49649900.0</td>\n",
       "      <td>705.669983</td>\n",
       "    </tr>\n",
       "  </tbody>\n",
       "</table>\n",
       "<p>2517 rows × 6 columns</p>\n",
       "</div>"
      ],
      "text/plain": [
       "                  High         Low       Open       Close      Volume  \\\n",
       "Date                                                                    \n",
       "2011-01-03    5.400000    5.180000    5.36800    5.324000   6415000.0   \n",
       "2011-01-04    5.390000    5.204000    5.33200    5.334000   5937000.0   \n",
       "2011-01-05    5.380000    5.238000    5.29600    5.366000   7233500.0   \n",
       "2011-01-06    5.600000    5.362000    5.36600    5.576000  10306000.0   \n",
       "2011-01-07    5.716000    5.580000    5.60000    5.648000  11239500.0   \n",
       "...                ...         ...        ...         ...         ...   \n",
       "2020-12-24  666.090027  641.000000  642.98999  661.770020  22865600.0   \n",
       "2020-12-28  681.400024  660.799988  674.51001  663.690002  32278600.0   \n",
       "2020-12-29  669.900024  655.000000  661.00000  665.989990  22910800.0   \n",
       "2020-12-30  696.599976  668.359985  672.00000  694.780029  42846000.0   \n",
       "2020-12-31  718.719971  691.119995  699.98999  705.669983  49649900.0   \n",
       "\n",
       "             Adj Close  \n",
       "Date                    \n",
       "2011-01-03    5.324000  \n",
       "2011-01-04    5.334000  \n",
       "2011-01-05    5.366000  \n",
       "2011-01-06    5.576000  \n",
       "2011-01-07    5.648000  \n",
       "...                ...  \n",
       "2020-12-24  661.770020  \n",
       "2020-12-28  663.690002  \n",
       "2020-12-29  665.989990  \n",
       "2020-12-30  694.780029  \n",
       "2020-12-31  705.669983  \n",
       "\n",
       "[2517 rows x 6 columns]"
      ]
     },
     "metadata": {},
     "execution_count": 2
    }
   ],
   "metadata": {}
  },
  {
   "cell_type": "code",
   "execution_count": 3,
   "source": [
    "#Visualize closing price history\r\n",
    "plt.figure(figsize=(16,8))\r\n",
    "plt.title('Tesla Closing Price History')\r\n",
    "plt.plot(df['Close'])\r\n",
    "plt.xlabel('Date', fontsize=18)\r\n",
    "plt.ylabel('Closing Price US $', fontsize=18)\r\n",
    "plt.show()"
   ],
   "outputs": [
    {
     "output_type": "display_data",
     "data": {
      "image/png": "[encoded data removed]",
      "text/plain": [
       "<Figure size 1152x576 with 1 Axes>"
      ]
     },
     "metadata": {}
    }
   ],
   "metadata": {}
  },
  {
   "cell_type": "code",
   "execution_count": 4,
   "source": [
    "# New Dataframe for just the close price column\r\n",
    "data = df.filter(['Close'])\r\n",
    "#Convert it to a numpy array\r\n",
    "dataset = data.values\r\n",
    "\r\n",
    "print(dataset.shape)\r\n",
    "dataset"
   ],
   "outputs": [
    {
     "output_type": "stream",
     "name": "stdout",
     "text": [
      "(2517, 1)\n"
     ]
    },
    {
     "output_type": "execute_result",
     "data": {
      "text/plain": [
       "array([[  5.32399988],\n",
       "       [  5.33400011],\n",
       "       [  5.36600018],\n",
       "       ...,\n",
       "       [665.98999023],\n",
       "       [694.7800293 ],\n",
       "       [705.66998291]])"
      ]
     },
     "metadata": {},
     "execution_count": 4
    }
   ],
   "metadata": {}
  },
  {
   "cell_type": "code",
   "execution_count": 5,
   "source": [
    "#get the number of rows to train the model on -> 80%\r\n",
    "training_data_len = math.ceil(len(dataset) * .8)\r\n",
    "training_data_len"
   ],
   "outputs": [
    {
     "output_type": "execute_result",
     "data": {
      "text/plain": [
       "2014"
      ]
     },
     "metadata": {},
     "execution_count": 5
    }
   ],
   "metadata": {}
  },
  {
   "cell_type": "code",
   "execution_count": 6,
   "source": [
    "# Scale the data - preprocessing\r\n",
    "scaler = MinMaxScaler(feature_range=(0,1))\r\n",
    "scaled_data = scaler.fit_transform(dataset)\r\n",
    "print(len(scaled_data))\r\n",
    "scaled_data\r\n"
   ],
   "outputs": [
    {
     "output_type": "stream",
     "name": "stdout",
     "text": [
      "2517\n"
     ]
    },
    {
     "output_type": "execute_result",
     "data": {
      "text/plain": [
       "array([[0.00136603],\n",
       "       [0.00138029],\n",
       "       [0.00142592],\n",
       "       ...,\n",
       "       [0.9434197 ],\n",
       "       [0.98447185],\n",
       "       [1.        ]])"
      ]
     },
     "metadata": {},
     "execution_count": 6
    }
   ],
   "metadata": {}
  },
  {
   "cell_type": "code",
   "execution_count": 8,
   "source": [
    "# print(len(train_data))\r\n",
    "print(training_data_len)"
   ],
   "outputs": [
    {
     "output_type": "stream",
     "name": "stdout",
     "text": [
      "2014\n"
     ]
    }
   ],
   "metadata": {}
  },
  {
   "cell_type": "code",
   "execution_count": 9,
   "source": [
    "# Create the training dataset\r\n",
    "train_data = scaled_data[0:training_data_len , :]\r\n",
    "# Split the data\r\n",
    "x_train = [] # features\r\n",
    "y_train = [] # dependent variables\r\n",
    "\r\n",
    "for i in range(365, len(train_data)):\r\n",
    "    x_train.append(train_data[i-365:i, 0])\r\n",
    "    y_train.append(train_data[i, 0])\r\n",
    "    if i<= 365:\r\n",
    "        print(x_train)\r\n",
    "        print(y_train)\r\n",
    "        print()"
   ],
   "outputs": [
    {
     "output_type": "stream",
     "name": "stdout",
     "text": [
      "[array([1.36602633e-03, 1.38028581e-03, 1.42591519e-03, 1.72535743e-03,\n",
      "       1.82802268e-03, 1.88791154e-03, 1.46298901e-03, 1.46298901e-03,\n",
      "       1.25195322e-03, 1.11791739e-03, 1.08654681e-03, 6.27402764e-04,\n",
      "       2.25294589e-04, 3.45070942e-04, 7.58586292e-04, 8.12771222e-04,\n",
      "       8.32733947e-04, 8.81215629e-04, 6.21698837e-04, 6.47365490e-04,\n",
      "       5.93180560e-04, 6.01736111e-04, 5.13328978e-04, 4.64847976e-04,\n",
      "       3.53626493e-04, 7.58586292e-04, 3.93552624e-04, 3.96404248e-04,\n",
      "       4.04959799e-04, 3.56478797e-04, 2.88034389e-04, 8.27030700e-04,\n",
      "       5.04773427e-04, 3.84997073e-04, 1.14071746e-05, 0.00000000e+00,\n",
      "       1.99627936e-04, 5.07625731e-04, 5.87476633e-04, 6.01736111e-04,\n",
      "       6.24550460e-04, 7.21513145e-04, 8.89770500e-04, 8.86918877e-04,\n",
      "       8.07067974e-04, 8.24178396e-04, 6.21698837e-04, 6.38809939e-04,\n",
      "       4.04959799e-04, 3.19404969e-04, 2.82331142e-04, 2.79478838e-04,\n",
      "       3.22256593e-04, 2.56664489e-04, 1.02665932e-04, 1.08369179e-04,\n",
      "       1.42591383e-04, 2.62368416e-04, 4.04959799e-04, 5.96032184e-04,\n",
      "       5.36144007e-04, 1.68828360e-03, 1.37743351e-03, 1.14073174e-03,\n",
      "       1.38884136e-03, 1.32895250e-03, 1.54283992e-03, 1.32895250e-03,\n",
      "       9.81029257e-04, 8.04215671e-04, 8.84067253e-04, 9.43955430e-04,\n",
      "       1.06943639e-03, 9.12585530e-04, 9.49659357e-04, 1.11791739e-03,\n",
      "       1.40024853e-03, 1.30043423e-03, 1.45443346e-03, 1.49721054e-03,\n",
      "       1.66261695e-03, 1.64550585e-03, 1.60272809e-03, 1.43732236e-03,\n",
      "       1.38598906e-03, 1.31469370e-03, 1.50861771e-03, 1.73391230e-03,\n",
      "       1.85368934e-03, 1.49435892e-03, 1.66546857e-03, 1.63124705e-03,\n",
      "       1.36032308e-03, 1.17780557e-03, 1.28902705e-03, 1.81661551e-03,\n",
      "       1.75102340e-03, 1.42306288e-03, 1.39454461e-03, 2.03905847e-03,\n",
      "       2.18164986e-03, 2.20161258e-03, 2.36987062e-03, 1.90787427e-03,\n",
      "       1.97631799e-03, 2.36701899e-03, 1.95920689e-03, 1.86509651e-03,\n",
      "       1.50861771e-03, 1.65120978e-03, 1.71965350e-03, 1.88220761e-03,\n",
      "       1.93068861e-03, 1.56565495e-03, 1.33180481e-03, 1.33180481e-03,\n",
      "       1.19206505e-03, 1.62554312e-03, 1.53428437e-03, 1.67687575e-03,\n",
      "       1.63695030e-03, 1.60558040e-03, 1.79094954e-03, 1.84228216e-03,\n",
      "       2.08183623e-03, 2.05046565e-03, 2.08468785e-03, 2.03335455e-03,\n",
      "       2.25294589e-03, 1.99057747e-03, 1.85939326e-03, 1.80805996e-03,\n",
      "       1.94209647e-03, 1.64835747e-03, 1.63980192e-03, 1.53998829e-03,\n",
      "       1.72820905e-03, 1.95635527e-03, 1.95920689e-03, 2.12746493e-03,\n",
      "       1.89931871e-03, 1.75957896e-03, 1.65691302e-03, 1.80805996e-03,\n",
      "       1.80805996e-03, 1.97917030e-03, 1.57135819e-03, 1.53143274e-03,\n",
      "       8.32733947e-04, 6.87290941e-04, 5.16181282e-04, 9.21141081e-04,\n",
      "       5.67513907e-04, 9.89584808e-04, 1.27761988e-03, 1.25480485e-03,\n",
      "       1.21773102e-03, 1.14073174e-03, 6.92994868e-04, 1.34035832e-04,\n",
      "       3.42215239e-05, 3.22256593e-04, 5.81773386e-04, 3.65034348e-04,\n",
      "       5.41847254e-04, 8.21326773e-04, 7.98512423e-04, 8.29882324e-04,\n",
      "       6.18847213e-04, 3.53626493e-04, 3.16552666e-04, 5.73217835e-04,\n",
      "       5.07625731e-04, 3.25108217e-04, 2.99442244e-04, 6.41661562e-04,\n",
      "       7.15809217e-04, 8.52697353e-04, 1.13217619e-03, 1.12362064e-03,\n",
      "       1.19206505e-03, 1.14643567e-03, 1.08369519e-03, 1.29758260e-03,\n",
      "       1.05232529e-03, 1.24339767e-03, 7.87105249e-04, 6.53068737e-04,\n",
      "       7.30068016e-04, 5.41847254e-04, 5.21884529e-04, 1.00954753e-03,\n",
      "       1.46298901e-03, 1.47154389e-03, 1.72535743e-03, 1.64835747e-03,\n",
      "       1.70254240e-03, 1.74246785e-03, 1.77383843e-03, 1.59417322e-03,\n",
      "       1.85654164e-03, 1.63695030e-03, 1.57135819e-03, 1.76813451e-03,\n",
      "       1.91642982e-03, 1.83087499e-03, 1.75387571e-03, 1.97631799e-03,\n",
      "       2.29287134e-03, 2.15027996e-03, 2.01054020e-03, 1.96205919e-03,\n",
      "       3.03149559e-03, 2.98871783e-03, 2.69212789e-03, 2.85468200e-03,\n",
      "       2.58090641e-03, 2.70923831e-03, 3.36801166e-03, 3.24823462e-03,\n",
      "       3.45071418e-03, 3.73874925e-03, 3.37941883e-03, 3.07142104e-03,\n",
      "       2.83186765e-03, 2.92027410e-03, 2.74346052e-03, 2.80334869e-03,\n",
      "       3.06001386e-03, 2.82901535e-03, 3.11134649e-03, 3.07142104e-03,\n",
      "       3.27104897e-03, 3.59045394e-03, 3.71878653e-03, 3.52486184e-03,\n",
      "       2.58375803e-03, 2.62653579e-03, 2.44686990e-03, 2.17309431e-03,\n",
      "       1.91072589e-03, 1.93639254e-03, 1.75957896e-03, 1.68828360e-03,\n",
      "       1.73106068e-03, 1.63695030e-03, 1.69398685e-03, 1.73106068e-03,\n",
      "       1.92213374e-03, 1.90502264e-03, 1.96776244e-03, 1.91928144e-03,\n",
      "       1.78239398e-03, 1.67687575e-03, 1.50861771e-03, 1.44872954e-03,\n",
      "       1.54569154e-03, 1.65120978e-03, 1.82517106e-03, 1.83087499e-03,\n",
      "       2.73775591e-04, 1.36032308e-03, 1.42021126e-03, 1.40595246e-03,\n",
      "       1.36032308e-03, 1.40880409e-03, 1.59417322e-03, 1.75102340e-03,\n",
      "       2.02765130e-03, 2.13887278e-03, 2.20731651e-03, 2.06472513e-03,\n",
      "       2.21016813e-03, 2.40124120e-03, 2.65790569e-03, 2.84327482e-03,\n",
      "       2.78623827e-03, 2.88034865e-03, 3.06571711e-03, 2.64364621e-03,\n",
      "       2.75486769e-03, 3.23397514e-03, 3.35660380e-03, 3.52201021e-03,\n",
      "       3.74730480e-03, 3.61326897e-03, 3.53341739e-03, 3.62182452e-03,\n",
      "       3.39938156e-03, 3.36230773e-03, 3.41649266e-03, 3.30241955e-03,\n",
      "       3.58760232e-03, 3.48208476e-03, 3.40508548e-03, 3.21686472e-03,\n",
      "       3.21971635e-03, 3.20545687e-03, 3.68171270e-03, 4.04389542e-03,\n",
      "       4.06670977e-03, 3.83856356e-03, 3.75586035e-03, 3.84711911e-03,\n",
      "       3.75015643e-03, 3.74445318e-03, 3.79863811e-03, 3.58475069e-03,\n",
      "       3.49349194e-03, 4.44029967e-03, 4.59429823e-03, 4.56863226e-03,\n",
      "       4.42033695e-03, 4.39467029e-03, 4.20644953e-03, 4.61426163e-03,\n",
      "       3.75586035e-03, 3.60756504e-03, 3.22827190e-03, 3.03149559e-03,\n",
      "       3.21116080e-03, 3.31097510e-03, 3.35375218e-03, 2.97160673e-03,\n",
      "       2.96875510e-03, 3.08853214e-03, 3.23112352e-03, 3.23112352e-03,\n",
      "       2.88320028e-03, 2.84897807e-03, 3.15982749e-03, 3.32523390e-03,\n",
      "       3.28245683e-03, 3.22256797e-03, 3.40793711e-03, 3.45356649e-03,\n",
      "       3.03149559e-03, 2.85183037e-03, 3.03434721e-03, 2.38413010e-03,\n",
      "       2.34705627e-03, 3.17408697e-03, 2.97160673e-03, 2.34705627e-03,\n",
      "       2.16739106e-03, 2.09609503e-03, 1.92213374e-03, 1.63409867e-03,\n",
      "       1.97917030e-03, 2.55809138e-03, 2.62083186e-03, 2.40979675e-03,\n",
      "       2.27576024e-03, 2.81190424e-03, 2.44686990e-03, 2.18735378e-03,\n",
      "       1.80235671e-03, 1.72535743e-03, 1.73391230e-03, 2.10750220e-03,\n",
      "       2.02479900e-03, 2.35275952e-03, 2.07898392e-03, 2.23298316e-03,\n",
      "       2.26435306e-03])]\n",
      "[0.002155983203161427]\n",
      "\n"
     ]
    }
   ],
   "metadata": {}
  },
  {
   "cell_type": "code",
   "execution_count": 10,
   "source": [
    "# Convert to numpy arrays\r\n",
    "x_train, y_train = np.array(x_train), np.array(y_train)"
   ],
   "outputs": [],
   "metadata": {}
  },
  {
   "cell_type": "code",
   "execution_count": 11,
   "source": [
    "x_train.shape"
   ],
   "outputs": [
    {
     "output_type": "execute_result",
     "data": {
      "text/plain": [
       "(1649, 365)"
      ]
     },
     "metadata": {},
     "execution_count": 11
    }
   ],
   "metadata": {}
  },
  {
   "cell_type": "code",
   "execution_count": 12,
   "source": [
    "#reshape the data\r\n",
    "x_train = np.reshape(x_train, (x_train.shape[0], x_train.shape[1], 1))\r\n",
    "x_train.shape"
   ],
   "outputs": [
    {
     "output_type": "execute_result",
     "data": {
      "text/plain": [
       "(1649, 365, 1)"
      ]
     },
     "metadata": {},
     "execution_count": 12
    }
   ],
   "metadata": {}
  },
  {
   "cell_type": "code",
   "execution_count": 13,
   "source": [
    "#build LSTM model \r\n",
    "model = Sequential()\r\n",
    "model.add(LSTM(50, return_sequences=True, input_shape=(x_train.shape[1], 1)))\r\n",
    "model.add(LSTM(50, return_sequences=False))\r\n",
    "model.add(Dense(25))\r\n",
    "model.add(Dense(1))"
   ],
   "outputs": [],
   "metadata": {}
  },
  {
   "cell_type": "code",
   "execution_count": 14,
   "source": [
    "#compile model\r\n",
    "model.compile(optimizer='adam', loss='mean_squared_error')"
   ],
   "outputs": [],
   "metadata": {}
  },
  {
   "cell_type": "code",
   "execution_count": 15,
   "source": [
    "# train the model\r\n",
    "model.fit(x_train, y_train, batch_size=1, epochs=1)"
   ],
   "outputs": [
    {
     "output_type": "stream",
     "name": "stdout",
     "text": [
      "1649/1649 [==============================] - 315s 188ms/step - loss: 5.4432e-05\n"
     ]
    },
    {
     "output_type": "execute_result",
     "data": {
      "text/plain": [
       "<keras.callbacks.History at 0x1fb90257508>"
      ]
     },
     "metadata": {},
     "execution_count": 15
    }
   ],
   "metadata": {}
  },
  {
   "cell_type": "code",
   "execution_count": 16,
   "source": [
    "# Create the testing dataset\r\n",
    "# Create a new array from 2014-2517\r\n",
    "test_data = scaled_data[training_data_len - 365: , :]\r\n",
    "\r\n",
    "# Create test data sets x_test and y_test\r\n",
    "x_test = []\r\n",
    "y_test = dataset[training_data_len:, :]\r\n",
    "for i in range(365, len(test_data)):\r\n",
    "    x_test.append(test_data[i-365:i, 0])\r\n",
    "    "
   ],
   "outputs": [],
   "metadata": {}
  },
  {
   "cell_type": "code",
   "execution_count": 17,
   "source": [
    "#Convert data to numpy array\r\n",
    "x_test = np.array(x_test)"
   ],
   "outputs": [],
   "metadata": {}
  },
  {
   "cell_type": "code",
   "execution_count": 18,
   "source": [
    "# Reshape the data\r\n",
    "x_test = np.reshape(x_test, (x_test.shape[0], x_test.shape[1], 1))"
   ],
   "outputs": [],
   "metadata": {}
  },
  {
   "cell_type": "code",
   "execution_count": 19,
   "source": [
    "# Get the Model predicted price values\r\n",
    "predictions = model.predict(x_test)\r\n",
    "predictions = scaler.inverse_transform(predictions)"
   ],
   "outputs": [],
   "metadata": {}
  },
  {
   "cell_type": "code",
   "execution_count": 20,
   "source": [
    "# Get root mean squared error (RMSE)\r\n",
    "# Use other evaluation methods to confirm how good the model is\r\n",
    "rmse = np.sqrt(np.mean(predictions - y_test)**2)\r\n",
    "rmse"
   ],
   "outputs": [
    {
     "output_type": "execute_result",
     "data": {
      "text/plain": [
       "23.886967645724773"
      ]
     },
     "metadata": {},
     "execution_count": 20
    }
   ],
   "metadata": {}
  },
  {
   "cell_type": "code",
   "execution_count": 21,
   "source": [
    "#Plot data\r\n",
    "train = data[:training_data_len]\r\n",
    "valid = data[training_data_len:]\r\n",
    "valid['Predictions'] = predictions"
   ],
   "outputs": [
    {
     "output_type": "stream",
     "name": "stderr",
     "text": [
      "C:\\Anaconda\\envs\\mlenv\\lib\\site-packages\\ipykernel_launcher.py:4: SettingWithCopyWarning: \n",
      "A value is trying to be set on a copy of a slice from a DataFrame.\n",
      "Try using .loc[row_indexer,col_indexer] = value instead\n",
      "\n",
      "See the caveats in the documentation: https://pandas.pydata.org/pandas-docs/stable/user_guide/indexing.html#returning-a-view-versus-a-copy\n",
      "  after removing the cwd from sys.path.\n"
     ]
    }
   ],
   "metadata": {}
  },
  {
   "cell_type": "code",
   "execution_count": 22,
   "source": [
    "#Visualize\r\n",
    "plt.figure(figsize=(16,8))\r\n",
    "plt.title('Model')\r\n",
    "plt.xlabel('Date', fontsize=18)\r\n",
    "plt.ylabel('Closing Price US$', fontsize=18)\r\n",
    "plt.plot(train['Close'])\r\n",
    "plt.plot(valid[['Close', 'Predictions']])\r\n",
    "plt.legend(['Train', 'Val', 'Predictions'], loc='lower right')\r\n"
   ],
   "outputs": [
    {
     "output_type": "execute_result",
     "data": {
      "text/plain": [
       "<matplotlib.legend.Legend at 0x1fb972ead08>"
      ]
     },
     "metadata": {},
     "execution_count": 22
    },
    {
     "output_type": "display_data",
     "data": {
      "image/png": "[encoded data removed]",
      "text/plain": [
       "<Figure size 1152x576 with 1 Axes>"
      ]
     },
     "metadata": {}
    }
   ],
   "metadata": {}
  },
  {
   "cell_type": "code",
   "execution_count": 23,
   "source": [
    "# Show the valid vs predicted prices\r\n",
    "valid"
   ],
   "outputs": [
    {
     "output_type": "execute_result",
     "data": {
      "text/html": [
       "<div>\n",
       "<style scoped>\n",
       "    .dataframe tbody tr th:only-of-type {\n",
       "        vertical-align: middle;\n",
       "    }\n",
       "\n",
       "    .dataframe tbody tr th {\n",
       "        vertical-align: top;\n",
       "    }\n",
       "\n",
       "    .dataframe thead th {\n",
       "        text-align: right;\n",
       "    }\n",
       "</style>\n",
       "<table border=\"1\" class=\"dataframe\">\n",
       "  <thead>\n",
       "    <tr style=\"text-align: right;\">\n",
       "      <th></th>\n",
       "      <th>Close</th>\n",
       "      <th>Predictions</th>\n",
       "    </tr>\n",
       "    <tr>\n",
       "      <th>Date</th>\n",
       "      <th></th>\n",
       "      <th></th>\n",
       "    </tr>\n",
       "  </thead>\n",
       "  <tbody>\n",
       "    <tr>\n",
       "      <th>2019-01-04</th>\n",
       "      <td>63.537998</td>\n",
       "      <td>65.548447</td>\n",
       "    </tr>\n",
       "    <tr>\n",
       "      <th>2019-01-07</th>\n",
       "      <td>66.991997</td>\n",
       "      <td>65.222298</td>\n",
       "    </tr>\n",
       "    <tr>\n",
       "      <th>2019-01-08</th>\n",
       "      <td>67.070000</td>\n",
       "      <td>65.451241</td>\n",
       "    </tr>\n",
       "    <tr>\n",
       "      <th>2019-01-09</th>\n",
       "      <td>67.706001</td>\n",
       "      <td>65.931633</td>\n",
       "    </tr>\n",
       "    <tr>\n",
       "      <th>2019-01-10</th>\n",
       "      <td>68.994003</td>\n",
       "      <td>66.548225</td>\n",
       "    </tr>\n",
       "    <tr>\n",
       "      <th>...</th>\n",
       "      <td>...</td>\n",
       "      <td>...</td>\n",
       "    </tr>\n",
       "    <tr>\n",
       "      <th>2020-12-24</th>\n",
       "      <td>661.770020</td>\n",
       "      <td>488.705231</td>\n",
       "    </tr>\n",
       "    <tr>\n",
       "      <th>2020-12-28</th>\n",
       "      <td>663.690002</td>\n",
       "      <td>489.660248</td>\n",
       "    </tr>\n",
       "    <tr>\n",
       "      <th>2020-12-29</th>\n",
       "      <td>665.989990</td>\n",
       "      <td>490.996033</td>\n",
       "    </tr>\n",
       "    <tr>\n",
       "      <th>2020-12-30</th>\n",
       "      <td>694.780029</td>\n",
       "      <td>492.490753</td>\n",
       "    </tr>\n",
       "    <tr>\n",
       "      <th>2020-12-31</th>\n",
       "      <td>705.669983</td>\n",
       "      <td>496.336670</td>\n",
       "    </tr>\n",
       "  </tbody>\n",
       "</table>\n",
       "<p>503 rows × 2 columns</p>\n",
       "</div>"
      ],
      "text/plain": [
       "                 Close  Predictions\n",
       "Date                               \n",
       "2019-01-04   63.537998    65.548447\n",
       "2019-01-07   66.991997    65.222298\n",
       "2019-01-08   67.070000    65.451241\n",
       "2019-01-09   67.706001    65.931633\n",
       "2019-01-10   68.994003    66.548225\n",
       "...                ...          ...\n",
       "2020-12-24  661.770020   488.705231\n",
       "2020-12-28  663.690002   489.660248\n",
       "2020-12-29  665.989990   490.996033\n",
       "2020-12-30  694.780029   492.490753\n",
       "2020-12-31  705.669983   496.336670\n",
       "\n",
       "[503 rows x 2 columns]"
      ]
     },
     "metadata": {},
     "execution_count": 23
    }
   ],
   "metadata": {}
  },
  {
   "cell_type": "code",
   "execution_count": 34,
   "source": [
    "# get the quote\r\n",
    "tesla_quote = web.DataReader('TSLA', data_source='yahoo', start='2011-01-01', end='2021-09-15')"
   ],
   "outputs": [],
   "metadata": {}
  },
  {
   "cell_type": "code",
   "execution_count": 35,
   "source": [
    "# New dataframe\r\n",
    "new_df = tesla_quote.filter(['Close'])\r\n",
    "\r\n",
    "#Get the last 365 days closing price values\r\n",
    "last_365_days = new_df[-365:].values\r\n",
    "\r\n",
    "# Scale the data\r\n",
    "last_365_days_scaled = scaler.transform(last_365_days)\r\n",
    "\r\n",
    "#Create empty list\r\n",
    "X_test = []\r\n",
    "\r\n",
    "# Append the last 365 days\r\n",
    "X_test.append(last_365_days_scaled)\r\n",
    "\r\n",
    "#Convert the X_test data to a numpy array\r\n",
    "X_test = np.array(X_test)\r\n",
    "\r\n",
    "# Reshape the data\r\n",
    "X_test = np.reshape(X_test, (X_test.shape[0], X_test.shape[1], 1))\r\n",
    "\r\n",
    "# Get the predicted scaled price\r\n",
    "pred_price = model.predict(X_test)\r\n",
    "\r\n",
    "# Undo the scaling\r\n",
    "pred_price = scaler.inverse_transform(pred_price)\r\n",
    "print(pred_price)"
   ],
   "outputs": [
    {
     "output_type": "stream",
     "name": "stdout",
     "text": [
      "[[538.99445]]\n"
     ]
    }
   ],
   "metadata": {}
  },
  {
   "cell_type": "code",
   "execution_count": 36,
   "source": [
    "# get the quote\r\n",
    "tesla_quote2 = web.DataReader('TSLA', data_source='yahoo', start='2021-09-16', end='2023-09-16')\r\n",
    "print(tesla_quote2)"
   ],
   "outputs": [
    {
     "output_type": "stream",
     "name": "stdout",
     "text": [
      "                  High         Low  Open       Close    Volume   Adj Close\n",
      "Date                                                                      \n",
      "2021-09-15  756.859985  738.359985   745  755.830017  15357685  755.830017\n"
     ]
    }
   ],
   "metadata": {}
  }
 ],
 "metadata": {
  "orig_nbformat": 4,
  "language_info": {
   "name": "python",
   "version": "3.7.10",
   "mimetype": "text/x-python",
   "codemirror_mode": {
    "name": "ipython",
    "version": 3
   },
   "pygments_lexer": "ipython3",
   "nbconvert_exporter": "python",
   "file_extension": ".py"
  },
  "kernelspec": {
   "name": "python3",
   "display_name": "Python 3.7.10 64-bit ('mlenv': conda)"
  },
  "interpreter": {
   "hash": "d24b3a1cb0b09410b743c7105fcadb3dc95be8b656bcfbb1aa64d0f08d0f10d7"
  }
 },
 "nbformat": 4,
 "nbformat_minor": 2
}