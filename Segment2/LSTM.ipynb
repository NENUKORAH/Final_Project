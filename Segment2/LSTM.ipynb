{
 "cells": [
  {
   "cell_type": "code",
   "execution_count": 4,
   "source": [
    "pip install pandas-datareader"
   ],
   "outputs": [
    {
     "output_type": "stream",
     "name": "stdout",
     "text": [
      "Collecting pandas-datareader\n",
      "  Downloading pandas_datareader-0.10.0-py3-none-any.whl (109 kB)\n",
      "Requirement already satisfied: requests>=2.19.0 in c:\\anaconda\\envs\\mlenv\\lib\\site-packages (from pandas-datareader) (2.25.1)\n",
      "Requirement already satisfied: lxml in c:\\anaconda\\envs\\mlenv\\lib\\site-packages (from pandas-datareader) (4.6.3)\n",
      "Requirement already satisfied: pandas>=0.23 in c:\\anaconda\\envs\\mlenv\\lib\\site-packages (from pandas-datareader) (1.2.4)\n",
      "Requirement already satisfied: numpy>=1.16.5 in c:\\anaconda\\envs\\mlenv\\lib\\site-packages (from pandas>=0.23->pandas-datareader) (1.19.5)\n",
      "Requirement already satisfied: python-dateutil>=2.7.3 in c:\\anaconda\\envs\\mlenv\\lib\\site-packages (from pandas>=0.23->pandas-datareader) (2.8.1)\n",
      "Requirement already satisfied: pytz>=2017.3 in c:\\anaconda\\envs\\mlenv\\lib\\site-packages (from pandas>=0.23->pandas-datareader) (2021.1)\n",
      "Requirement already satisfied: six>=1.5 in c:\\anaconda\\envs\\mlenv\\lib\\site-packages (from python-dateutil>=2.7.3->pandas>=0.23->pandas-datareader) (1.15.0)\n",
      "Requirement already satisfied: idna<3,>=2.5 in c:\\anaconda\\envs\\mlenv\\lib\\site-packages (from requests>=2.19.0->pandas-datareader) (2.10)\n",
      "Requirement already satisfied: urllib3<1.27,>=1.21.1 in c:\\anaconda\\envs\\mlenv\\lib\\site-packages (from requests>=2.19.0->pandas-datareader) (1.26.4)\n",
      "Requirement already satisfied: chardet<5,>=3.0.2 in c:\\anaconda\\envs\\mlenv\\lib\\site-packages (from requests>=2.19.0->pandas-datareader) (4.0.0)\n",
      "Requirement already satisfied: certifi>=2017.4.17 in c:\\anaconda\\envs\\mlenv\\lib\\site-packages (from requests>=2.19.0->pandas-datareader) (2020.12.5)\n",
      "Installing collected packages: pandas-datareader\n",
      "Successfully installed pandas-datareader-0.10.0\n",
      "Note: you may need to restart the kernel to use updated packages.\n"
     ]
    }
   ],
   "metadata": {}
  },
  {
   "cell_type": "code",
   "execution_count": 1,
   "source": [
    "# Import Libraries\r\n",
    "import pandas_datareader as web\r\n",
    "import numpy as np\r\n",
    "import pandas as pd\r\n",
    "import datetime as dt\r\n",
    "import psycopg2\r\n",
    "import math\r\n",
    "# Python SQL toolkit and Object Relational Mapper\r\n",
    "import sqlalchemy\r\n",
    "from sqlalchemy.ext.automap import automap_base\r\n",
    "from sqlalchemy.orm import Session\r\n",
    "from sqlalchemy import create_engine, func\r\n",
    "# machile learning\r\n",
    "from sklearn.preprocessing import MinMaxScaler\r\n",
    "from keras.models import Sequential\r\n",
    "from keras.layers import Dense, LSTM\r\n",
    "import matplotlib.pyplot as plt\r\n",
    "plt.style.use('fivethirtyeight')"
   ],
   "outputs": [],
   "metadata": {}
  },
  {
   "cell_type": "code",
   "execution_count": 2,
   "source": [
    "# load password\r\n",
    "from config import db_password\r\n",
    "\r\n",
    "# Assign connection values\r\n",
    "url = \"finalproject.crrfdeawjuaz.us-east-1.rds.amazonaws.com\"\r\n",
    "port = \"5432\"\r\n",
    "db_name = \"tesla\""
   ],
   "outputs": [],
   "metadata": {}
  },
  {
   "cell_type": "code",
   "execution_count": 3,
   "source": [
    "# Connect to the AWS database\r\n",
    "from sqlalchemy import create_engine\r\n",
    "db_string = f\"postgresql://postgres:{db_password}@{url}:{port}/{db_name}\"\r\n",
    "engine = create_engine(db_string)\r\n",
    "conn = engine.connect()"
   ],
   "outputs": [],
   "metadata": {}
  },
  {
   "cell_type": "code",
   "execution_count": 6,
   "source": [
    "# read table daily values\r\n",
    "df1 = pd.read_sql('SELECT * FROM \"daily_values\"', conn)\r\n",
    "print(df1.shape)\r\n",
    "df1.head()"
   ],
   "outputs": [
    {
     "output_type": "stream",
     "name": "stdout",
     "text": [
      "(2821, 9)\n"
     ]
    },
    {
     "output_type": "execute_result",
     "data": {
      "text/html": [
       "<div>\n",
       "<style scoped>\n",
       "    .dataframe tbody tr th:only-of-type {\n",
       "        vertical-align: middle;\n",
       "    }\n",
       "\n",
       "    .dataframe tbody tr th {\n",
       "        vertical-align: top;\n",
       "    }\n",
       "\n",
       "    .dataframe thead th {\n",
       "        text-align: right;\n",
       "    }\n",
       "</style>\n",
       "<table border=\"1\" class=\"dataframe\">\n",
       "  <thead>\n",
       "    <tr style=\"text-align: right;\">\n",
       "      <th></th>\n",
       "      <th>ticker</th>\n",
       "      <th>hdate</th>\n",
       "      <th>hopen</th>\n",
       "      <th>hhigh</th>\n",
       "      <th>hlow</th>\n",
       "      <th>hclose</th>\n",
       "      <th>hadjclose</th>\n",
       "      <th>hvolume</th>\n",
       "      <th>q_key</th>\n",
       "    </tr>\n",
       "  </thead>\n",
       "  <tbody>\n",
       "    <tr>\n",
       "      <th>0</th>\n",
       "      <td>TSLA</td>\n",
       "      <td>2010-06-29</td>\n",
       "      <td>3.800</td>\n",
       "      <td>5.000</td>\n",
       "      <td>3.508</td>\n",
       "      <td>4.778</td>\n",
       "      <td>4.778</td>\n",
       "      <td>93831500</td>\n",
       "      <td>None</td>\n",
       "    </tr>\n",
       "    <tr>\n",
       "      <th>1</th>\n",
       "      <td>TSLA</td>\n",
       "      <td>2010-06-30</td>\n",
       "      <td>5.158</td>\n",
       "      <td>6.084</td>\n",
       "      <td>4.660</td>\n",
       "      <td>4.766</td>\n",
       "      <td>4.766</td>\n",
       "      <td>85935500</td>\n",
       "      <td>2010Q2</td>\n",
       "    </tr>\n",
       "    <tr>\n",
       "      <th>2</th>\n",
       "      <td>TSLA</td>\n",
       "      <td>2010-07-01</td>\n",
       "      <td>5.000</td>\n",
       "      <td>5.184</td>\n",
       "      <td>4.054</td>\n",
       "      <td>4.392</td>\n",
       "      <td>4.392</td>\n",
       "      <td>41094000</td>\n",
       "      <td>None</td>\n",
       "    </tr>\n",
       "    <tr>\n",
       "      <th>3</th>\n",
       "      <td>TSLA</td>\n",
       "      <td>2010-07-02</td>\n",
       "      <td>4.600</td>\n",
       "      <td>4.620</td>\n",
       "      <td>3.742</td>\n",
       "      <td>3.840</td>\n",
       "      <td>3.840</td>\n",
       "      <td>25699000</td>\n",
       "      <td>None</td>\n",
       "    </tr>\n",
       "    <tr>\n",
       "      <th>4</th>\n",
       "      <td>TSLA</td>\n",
       "      <td>2010-07-06</td>\n",
       "      <td>4.000</td>\n",
       "      <td>4.000</td>\n",
       "      <td>3.166</td>\n",
       "      <td>3.222</td>\n",
       "      <td>3.222</td>\n",
       "      <td>34334500</td>\n",
       "      <td>None</td>\n",
       "    </tr>\n",
       "  </tbody>\n",
       "</table>\n",
       "</div>"
      ],
      "text/plain": [
       "  ticker       hdate  hopen  hhigh   hlow  hclose  hadjclose   hvolume   q_key\n",
       "0   TSLA  2010-06-29  3.800  5.000  3.508   4.778      4.778  93831500    None\n",
       "1   TSLA  2010-06-30  5.158  6.084  4.660   4.766      4.766  85935500  2010Q2\n",
       "2   TSLA  2010-07-01  5.000  5.184  4.054   4.392      4.392  41094000    None\n",
       "3   TSLA  2010-07-02  4.600  4.620  3.742   3.840      3.840  25699000    None\n",
       "4   TSLA  2010-07-06  4.000  4.000  3.166   3.222      3.222  34334500    None"
      ]
     },
     "metadata": {},
     "execution_count": 6
    }
   ],
   "metadata": {}
  },
  {
   "cell_type": "code",
   "execution_count": 8,
   "source": [
    "# Reindex data using a DatetimeIndex\r\n",
    "df2 = df1\r\n",
    "df1_series = pd.to_datetime(df1['hdate'])\r\n",
    "df1_index = pd.DatetimeIndex(df1_series.values)\r\n",
    "df3 = df2.set_index(df1_index)\r\n",
    "df3.drop('hdate', axis=1, inplace=True)\r\n",
    "print(df3.shape)\r\n",
    "df3"
   ],
   "outputs": [
    {
     "output_type": "stream",
     "name": "stdout",
     "text": [
      "(2821, 8)\n"
     ]
    },
    {
     "output_type": "execute_result",
     "data": {
      "text/html": [
       "<div>\n",
       "<style scoped>\n",
       "    .dataframe tbody tr th:only-of-type {\n",
       "        vertical-align: middle;\n",
       "    }\n",
       "\n",
       "    .dataframe tbody tr th {\n",
       "        vertical-align: top;\n",
       "    }\n",
       "\n",
       "    .dataframe thead th {\n",
       "        text-align: right;\n",
       "    }\n",
       "</style>\n",
       "<table border=\"1\" class=\"dataframe\">\n",
       "  <thead>\n",
       "    <tr style=\"text-align: right;\">\n",
       "      <th></th>\n",
       "      <th>ticker</th>\n",
       "      <th>hopen</th>\n",
       "      <th>hhigh</th>\n",
       "      <th>hlow</th>\n",
       "      <th>hclose</th>\n",
       "      <th>hadjclose</th>\n",
       "      <th>hvolume</th>\n",
       "      <th>q_key</th>\n",
       "    </tr>\n",
       "  </thead>\n",
       "  <tbody>\n",
       "    <tr>\n",
       "      <th>2010-06-29</th>\n",
       "      <td>TSLA</td>\n",
       "      <td>3.800</td>\n",
       "      <td>5.000</td>\n",
       "      <td>3.508</td>\n",
       "      <td>4.778</td>\n",
       "      <td>4.778</td>\n",
       "      <td>93831500</td>\n",
       "      <td>None</td>\n",
       "    </tr>\n",
       "    <tr>\n",
       "      <th>2010-06-30</th>\n",
       "      <td>TSLA</td>\n",
       "      <td>5.158</td>\n",
       "      <td>6.084</td>\n",
       "      <td>4.660</td>\n",
       "      <td>4.766</td>\n",
       "      <td>4.766</td>\n",
       "      <td>85935500</td>\n",
       "      <td>2010Q2</td>\n",
       "    </tr>\n",
       "    <tr>\n",
       "      <th>2010-07-01</th>\n",
       "      <td>TSLA</td>\n",
       "      <td>5.000</td>\n",
       "      <td>5.184</td>\n",
       "      <td>4.054</td>\n",
       "      <td>4.392</td>\n",
       "      <td>4.392</td>\n",
       "      <td>41094000</td>\n",
       "      <td>None</td>\n",
       "    </tr>\n",
       "    <tr>\n",
       "      <th>2010-07-02</th>\n",
       "      <td>TSLA</td>\n",
       "      <td>4.600</td>\n",
       "      <td>4.620</td>\n",
       "      <td>3.742</td>\n",
       "      <td>3.840</td>\n",
       "      <td>3.840</td>\n",
       "      <td>25699000</td>\n",
       "      <td>None</td>\n",
       "    </tr>\n",
       "    <tr>\n",
       "      <th>2010-07-06</th>\n",
       "      <td>TSLA</td>\n",
       "      <td>4.000</td>\n",
       "      <td>4.000</td>\n",
       "      <td>3.166</td>\n",
       "      <td>3.222</td>\n",
       "      <td>3.222</td>\n",
       "      <td>34334500</td>\n",
       "      <td>None</td>\n",
       "    </tr>\n",
       "    <tr>\n",
       "      <th>...</th>\n",
       "      <td>...</td>\n",
       "      <td>...</td>\n",
       "      <td>...</td>\n",
       "      <td>...</td>\n",
       "      <td>...</td>\n",
       "      <td>...</td>\n",
       "      <td>...</td>\n",
       "      <td>...</td>\n",
       "    </tr>\n",
       "    <tr>\n",
       "      <th>2021-09-03</th>\n",
       "      <td>TSLA</td>\n",
       "      <td>732.250</td>\n",
       "      <td>734.000</td>\n",
       "      <td>724.200</td>\n",
       "      <td>733.570</td>\n",
       "      <td>733.570</td>\n",
       "      <td>15246100</td>\n",
       "      <td>None</td>\n",
       "    </tr>\n",
       "    <tr>\n",
       "      <th>2021-09-07</th>\n",
       "      <td>TSLA</td>\n",
       "      <td>740.000</td>\n",
       "      <td>760.200</td>\n",
       "      <td>739.260</td>\n",
       "      <td>752.920</td>\n",
       "      <td>752.920</td>\n",
       "      <td>20039800</td>\n",
       "      <td>None</td>\n",
       "    </tr>\n",
       "    <tr>\n",
       "      <th>2021-09-08</th>\n",
       "      <td>TSLA</td>\n",
       "      <td>761.580</td>\n",
       "      <td>764.450</td>\n",
       "      <td>740.770</td>\n",
       "      <td>753.870</td>\n",
       "      <td>753.870</td>\n",
       "      <td>18793000</td>\n",
       "      <td>None</td>\n",
       "    </tr>\n",
       "    <tr>\n",
       "      <th>2021-09-09</th>\n",
       "      <td>TSLA</td>\n",
       "      <td>753.410</td>\n",
       "      <td>762.100</td>\n",
       "      <td>751.630</td>\n",
       "      <td>754.860</td>\n",
       "      <td>754.860</td>\n",
       "      <td>14077700</td>\n",
       "      <td>None</td>\n",
       "    </tr>\n",
       "    <tr>\n",
       "      <th>2021-09-10</th>\n",
       "      <td>TSLA</td>\n",
       "      <td>759.600</td>\n",
       "      <td>762.610</td>\n",
       "      <td>734.520</td>\n",
       "      <td>736.270</td>\n",
       "      <td>736.270</td>\n",
       "      <td>15114300</td>\n",
       "      <td>None</td>\n",
       "    </tr>\n",
       "  </tbody>\n",
       "</table>\n",
       "<p>2821 rows × 8 columns</p>\n",
       "</div>"
      ],
      "text/plain": [
       "           ticker    hopen    hhigh     hlow   hclose  hadjclose   hvolume  \\\n",
       "2010-06-29   TSLA    3.800    5.000    3.508    4.778      4.778  93831500   \n",
       "2010-06-30   TSLA    5.158    6.084    4.660    4.766      4.766  85935500   \n",
       "2010-07-01   TSLA    5.000    5.184    4.054    4.392      4.392  41094000   \n",
       "2010-07-02   TSLA    4.600    4.620    3.742    3.840      3.840  25699000   \n",
       "2010-07-06   TSLA    4.000    4.000    3.166    3.222      3.222  34334500   \n",
       "...           ...      ...      ...      ...      ...        ...       ...   \n",
       "2021-09-03   TSLA  732.250  734.000  724.200  733.570    733.570  15246100   \n",
       "2021-09-07   TSLA  740.000  760.200  739.260  752.920    752.920  20039800   \n",
       "2021-09-08   TSLA  761.580  764.450  740.770  753.870    753.870  18793000   \n",
       "2021-09-09   TSLA  753.410  762.100  751.630  754.860    754.860  14077700   \n",
       "2021-09-10   TSLA  759.600  762.610  734.520  736.270    736.270  15114300   \n",
       "\n",
       "             q_key  \n",
       "2010-06-29    None  \n",
       "2010-06-30  2010Q2  \n",
       "2010-07-01    None  \n",
       "2010-07-02    None  \n",
       "2010-07-06    None  \n",
       "...            ...  \n",
       "2021-09-03    None  \n",
       "2021-09-07    None  \n",
       "2021-09-08    None  \n",
       "2021-09-09    None  \n",
       "2021-09-10    None  \n",
       "\n",
       "[2821 rows x 8 columns]"
      ]
     },
     "metadata": {},
     "execution_count": 8
    }
   ],
   "metadata": {}
  },
  {
   "cell_type": "code",
   "execution_count": 9,
   "source": [
    "#Visualize closing price history for data range\r\n",
    "plt.figure(figsize=(16,8))\r\n",
    "plt.title('Tesla Closing Price History')\r\n",
    "plt.plot(df3['hclose'])\r\n",
    "plt.xlabel('Date', fontsize=18)\r\n",
    "plt.ylabel('Closing Price US $', fontsize=18)\r\n",
    "plt.show()"
   ],
   "outputs": [
    {
     "output_type": "display_data",
     "data": {
      "image/png": "[encoded data removed]",
      "text/plain": [
       "<Figure size 1152x576 with 1 Axes>"
      ]
     },
     "metadata": {}
    }
   ],
   "metadata": {}
  },
  {
   "cell_type": "code",
   "execution_count": 13,
   "source": [
    "# New Dataframe for just the close price column\r\n",
    "data = df3.filter(['hclose'])\r\n",
    "#Convert it to a numpy array\r\n",
    "dataset = data.values\r\n",
    "\r\n",
    "print(dataset.shape)\r\n",
    "dataset"
   ],
   "outputs": [
    {
     "output_type": "stream",
     "name": "stdout",
     "text": [
      "(2821, 1)\n"
     ]
    },
    {
     "output_type": "execute_result",
     "data": {
      "text/plain": [
       "array([[  4.778],\n",
       "       [  4.766],\n",
       "       [  4.392],\n",
       "       ...,\n",
       "       [753.87 ],\n",
       "       [754.86 ],\n",
       "       [736.27 ]])"
      ]
     },
     "metadata": {},
     "execution_count": 13
    }
   ],
   "metadata": {}
  },
  {
   "cell_type": "code",
   "execution_count": 14,
   "source": [
    "#get the number of rows to train the model on -> 80%\r\n",
    "training_data_len = math.ceil(len(dataset) * .8)\r\n",
    "training_data_len"
   ],
   "outputs": [
    {
     "output_type": "execute_result",
     "data": {
      "text/plain": [
       "2257"
      ]
     },
     "metadata": {},
     "execution_count": 14
    }
   ],
   "metadata": {}
  },
  {
   "cell_type": "code",
   "execution_count": 15,
   "source": [
    "# Scale the data - preprocessing\r\n",
    "scaler = MinMaxScaler(feature_range=(0,1))\r\n",
    "scaled_data = scaler.fit_transform(dataset)\r\n",
    "print(len(scaled_data))\r\n",
    "scaled_data\r\n"
   ],
   "outputs": [
    {
     "output_type": "stream",
     "name": "stdout",
     "text": [
      "2821\n"
     ]
    },
    {
     "output_type": "execute_result",
     "data": {
      "text/plain": [
       "array([[0.00183878],\n",
       "       [0.00182515],\n",
       "       [0.00140011],\n",
       "       ...,\n",
       "       [0.85314741],\n",
       "       [0.8542725 ],\n",
       "       [0.83314582]])"
      ]
     },
     "metadata": {},
     "execution_count": 15
    }
   ],
   "metadata": {}
  },
  {
   "cell_type": "code",
   "execution_count": 16,
   "source": [
    "# print(len(train_data))\r\n",
    "print(training_data_len)"
   ],
   "outputs": [
    {
     "output_type": "stream",
     "name": "stdout",
     "text": [
      "2257\n"
     ]
    }
   ],
   "metadata": {}
  },
  {
   "cell_type": "code",
   "execution_count": 17,
   "source": [
    "# Create the training dataset\r\n",
    "train_data = scaled_data[0:training_data_len , :]\r\n",
    "# Split the data\r\n",
    "x_train = [] # features\r\n",
    "y_train = [] # dependent variables\r\n",
    "\r\n",
    "for i in range(365, len(train_data)):\r\n",
    "    x_train.append(train_data[i-365:i, 0])\r\n",
    "    y_train.append(train_data[i, 0])\r\n",
    "    if i<= 365:\r\n",
    "        print(x_train)\r\n",
    "        print(y_train)\r\n",
    "        print()"
   ],
   "outputs": [
    {
     "output_type": "stream",
     "name": "stdout",
     "text": [
      "[array([1.83878263e-03, 1.82514518e-03, 1.40011137e-03, 7.72788745e-04,\n",
      "       7.04601502e-05, 0.00000000e+00, 3.77302740e-04, 3.63665292e-04,\n",
      "       2.84113509e-04, 5.31860489e-04, 9.18254861e-04, 9.29619402e-04,\n",
      "       1.10008751e-03, 1.38874683e-03, 1.02280863e-03, 1.00462537e-03,\n",
      "       1.18191220e-03, 1.24782653e-03, 1.17054766e-03, 1.07963133e-03,\n",
      "       1.11827077e-03, 1.03417317e-03, 9.40983942e-04, 1.16372893e-03,\n",
      "       1.39783846e-03, 1.24100781e-03, 1.05690225e-03, 8.61432159e-04,\n",
      "       8.63705067e-04, 7.34149307e-04, 4.77310695e-04, 4.09123453e-04,\n",
      "       5.72772834e-04, 6.77326606e-04, 7.61424204e-04, 6.75053697e-04,\n",
      "       6.79599514e-04, 7.50059664e-04, 9.84169195e-04, 7.72788745e-04,\n",
      "       9.31892310e-04, 8.97798689e-04, 8.86434148e-04, 9.25073585e-04,\n",
      "       8.36430171e-04, 1.05690225e-03, 1.19554965e-03, 1.19327674e-03,\n",
      "       1.07735843e-03, 1.15918312e-03, 1.11599786e-03, 9.93260828e-04,\n",
      "       1.11827077e-03, 1.20918709e-03, 1.40465719e-03, 1.16827475e-03,\n",
      "       1.00689828e-03, 1.19554965e-03, 1.12963531e-03, 9.25073585e-04,\n",
      "       8.54613435e-04, 9.77350471e-04, 1.07508552e-03, 1.27282852e-03,\n",
      "       1.40465719e-03, 1.04781062e-03, 1.09099587e-03, 1.17963929e-03,\n",
      "       1.20918709e-03, 1.05917516e-03, 1.05235644e-03, 1.05235644e-03,\n",
      "       1.00917118e-03, 1.00917118e-03, 1.07735843e-03, 1.12508950e-03,\n",
      "       1.07735843e-03, 1.00689828e-03, 9.65985931e-04, 1.10236042e-03,\n",
      "       1.12508950e-03, 1.11827077e-03, 1.14781858e-03, 1.26373689e-03,\n",
      "       1.18191220e-03, 1.22509745e-03, 1.37283648e-03, 1.27510143e-03,\n",
      "       1.23873490e-03, 1.35692612e-03, 2.06834635e-03, 1.96379257e-03,\n",
      "       2.08652961e-03, 2.00697783e-03, 3.08206335e-03, 2.78203948e-03,\n",
      "       3.19116293e-03, 3.40936211e-03, 3.15252350e-03, 3.11161115e-03,\n",
      "       3.20252747e-03, 3.45254736e-03, 4.00031821e-03, 4.26624845e-03,\n",
      "       4.47081018e-03, 4.43671656e-03, 4.21169866e-03, 4.43898947e-03,\n",
      "       4.21624447e-03, 3.76166286e-03, 3.56619277e-03, 3.29798961e-03,\n",
      "       3.58210312e-03, 3.76620868e-03, 3.69347562e-03, 3.57301149e-03,\n",
      "       3.35253941e-03, 2.89341198e-03, 3.13661314e-03, 3.41163502e-03,\n",
      "       3.53664496e-03, 3.61392383e-03, 3.74120669e-03, 3.82530429e-03,\n",
      "       3.24798564e-03, 2.21608537e-03, 2.41155546e-03, 2.71157933e-03,\n",
      "       2.43201164e-03, 2.46155944e-03, 2.45928653e-03, 2.47065107e-03,\n",
      "       2.50701760e-03, 2.74567295e-03, 2.82749764e-03, 2.87522871e-03,\n",
      "       2.53656541e-03, 2.53656541e-03, 2.36837021e-03, 2.26154353e-03,\n",
      "       2.23654154e-03, 1.87060334e-03, 1.55012331e-03, 1.64558544e-03,\n",
      "       1.97515711e-03, 2.01834237e-03, 2.03425272e-03, 2.07289216e-03,\n",
      "       1.86605753e-03, 1.88651370e-03, 1.84332845e-03, 1.85014717e-03,\n",
      "       1.77968702e-03, 1.74104758e-03, 1.65240417e-03, 1.97515711e-03,\n",
      "       1.68422488e-03, 1.68649779e-03, 1.69331651e-03, 1.65467708e-03,\n",
      "       1.60012728e-03, 2.02970691e-03, 1.77286830e-03, 1.67740616e-03,\n",
      "       1.37965520e-03, 1.37056357e-03, 1.52966713e-03, 1.77514120e-03,\n",
      "       1.83878263e-03, 1.85014717e-03, 1.86833044e-03, 1.94560931e-03,\n",
      "       2.07971089e-03, 2.07743798e-03, 2.01379655e-03, 2.02743400e-03,\n",
      "       1.86605753e-03, 1.87969498e-03, 1.69331651e-03, 1.62512927e-03,\n",
      "       1.59558147e-03, 1.59330856e-03, 1.62740218e-03, 1.57512529e-03,\n",
      "       1.45238826e-03, 1.45693407e-03, 1.48420897e-03, 1.57967111e-03,\n",
      "       1.69331651e-03, 1.84560135e-03, 1.79787029e-03, 2.71612515e-03,\n",
      "       2.46837817e-03, 2.27972680e-03, 2.47746980e-03, 2.42973873e-03,\n",
      "       2.60020683e-03, 2.42973873e-03, 2.15244394e-03, 2.01152364e-03,\n",
      "       2.07516507e-03, 2.12289614e-03, 2.22290409e-03, 2.09789415e-03,\n",
      "       2.12744196e-03, 2.26154353e-03, 2.48656143e-03, 2.40700965e-03,\n",
      "       2.52974668e-03, 2.56384031e-03, 2.69566897e-03, 2.68203153e-03,\n",
      "       2.64793790e-03, 2.51610924e-03, 2.47519689e-03, 2.41837419e-03,\n",
      "       2.57293194e-03, 2.75249168e-03, 2.84795381e-03, 2.56156740e-03,\n",
      "       2.69794188e-03, 2.67066698e-03, 2.45474072e-03, 2.30927460e-03,\n",
      "       2.39791802e-03, 2.81840601e-03, 2.76612912e-03, 2.50474470e-03,\n",
      "       2.48201561e-03, 2.99569284e-03, 3.10933824e-03, 3.12524860e-03,\n",
      "       3.25935018e-03, 2.89113907e-03, 2.94568886e-03, 3.25707727e-03,\n",
      "       2.93205141e-03, 2.85704545e-03, 2.57293194e-03, 2.68657734e-03,\n",
      "       2.74112714e-03, 2.87068290e-03, 2.90932233e-03, 2.61839010e-03,\n",
      "       2.43201164e-03, 2.43201164e-03, 2.32063914e-03, 2.66612117e-03,\n",
      "       2.59338811e-03, 2.70703351e-03, 2.67521280e-03, 2.65021081e-03,\n",
      "       2.79794984e-03, 2.83886218e-03, 3.02978646e-03, 3.00478447e-03,\n",
      "       3.03205937e-03, 2.99114702e-03, 3.16616094e-03, 2.95705340e-03,\n",
      "       2.85249963e-03, 2.81158729e-03, 2.91841396e-03, 2.68430443e-03,\n",
      "       2.67748571e-03, 2.59793393e-03, 2.74794586e-03, 2.92977851e-03,\n",
      "       2.93205141e-03, 3.06615299e-03, 2.88432034e-03, 2.77294785e-03,\n",
      "       2.69112316e-03, 2.81158729e-03, 2.81158729e-03, 2.94796177e-03,\n",
      "       2.62293592e-03, 2.59111520e-03, 2.03425272e-03, 1.91833441e-03,\n",
      "       1.78195993e-03, 2.10471287e-03, 1.82287227e-03, 2.15926267e-03,\n",
      "       2.38882638e-03, 2.37064312e-03, 2.34109531e-03, 2.27972680e-03,\n",
      "       1.92288023e-03, 1.47739025e-03, 1.39783846e-03, 1.62740218e-03,\n",
      "       1.83423681e-03, 1.66149580e-03, 1.80241610e-03, 2.02516109e-03,\n",
      "       2.00697783e-03, 2.03197982e-03, 1.86378462e-03, 1.65240417e-03,\n",
      "       1.62285636e-03, 1.82741809e-03, 1.77514120e-03, 1.62967509e-03,\n",
      "       1.60921892e-03, 1.88196788e-03, 1.94106349e-03, 2.05016308e-03,\n",
      "       2.27290807e-03, 2.26608935e-03, 2.32063914e-03, 2.28427261e-03,\n",
      "       2.23426864e-03, 2.40473674e-03, 2.20926665e-03, 2.36155149e-03,\n",
      "       1.99788620e-03, 1.89105952e-03, 1.95242803e-03, 1.80241610e-03,\n",
      "       1.78650574e-03, 2.17517303e-03, 2.53656541e-03, 2.54338413e-03,\n",
      "       2.74567295e-03, 2.68430443e-03, 2.72748969e-03, 2.75931040e-03,\n",
      "       2.78431239e-03, 2.64111918e-03, 2.85022672e-03, 2.67521280e-03,\n",
      "       2.62293592e-03, 2.77976657e-03, 2.89795779e-03, 2.82977055e-03,\n",
      "       2.76840203e-03, 2.94568886e-03, 3.19798166e-03, 3.08433625e-03,\n",
      "       2.97296376e-03, 2.93432432e-03, 3.78666485e-03, 3.75257123e-03,\n",
      "       3.51618879e-03, 3.64574455e-03, 3.42754537e-03, 3.52982624e-03,\n",
      "       4.05486800e-03, 3.95940586e-03, 4.12078233e-03, 4.35034605e-03,\n",
      "       4.06395963e-03, 3.81848556e-03, 3.62756128e-03, 3.69802143e-03,\n",
      "       3.55710113e-03, 3.60483220e-03, 3.80939393e-03, 3.62528838e-03,\n",
      "       3.85030627e-03, 3.81848556e-03, 3.97758913e-03, 4.23215483e-03,\n",
      "       4.33443569e-03])]\n",
      "[0.00417987794483652]\n",
      "\n"
     ]
    }
   ],
   "metadata": {}
  },
  {
   "cell_type": "code",
   "execution_count": 18,
   "source": [
    "# Convert to numpy arrays\r\n",
    "x_train, y_train = np.array(x_train), np.array(y_train)"
   ],
   "outputs": [],
   "metadata": {}
  },
  {
   "cell_type": "code",
   "execution_count": 19,
   "source": [
    "x_train.shape"
   ],
   "outputs": [
    {
     "output_type": "execute_result",
     "data": {
      "text/plain": [
       "(1892, 365)"
      ]
     },
     "metadata": {},
     "execution_count": 19
    }
   ],
   "metadata": {}
  },
  {
   "cell_type": "code",
   "execution_count": 20,
   "source": [
    "#reshape the data\r\n",
    "x_train = np.reshape(x_train, (x_train.shape[0], x_train.shape[1], 1))\r\n",
    "x_train.shape"
   ],
   "outputs": [
    {
     "output_type": "execute_result",
     "data": {
      "text/plain": [
       "(1892, 365, 1)"
      ]
     },
     "metadata": {},
     "execution_count": 20
    }
   ],
   "metadata": {}
  },
  {
   "cell_type": "code",
   "execution_count": 21,
   "source": [
    "#build LSTM model \r\n",
    "model = Sequential()\r\n",
    "model.add(LSTM(50, return_sequences=True, input_shape=(x_train.shape[1], 1)))\r\n",
    "model.add(LSTM(50, return_sequences=False))\r\n",
    "model.add(Dense(25))\r\n",
    "model.add(Dense(1))"
   ],
   "outputs": [],
   "metadata": {}
  },
  {
   "cell_type": "code",
   "execution_count": 22,
   "source": [
    "#compile model\r\n",
    "model.compile(optimizer='adam', loss='mean_squared_error')"
   ],
   "outputs": [],
   "metadata": {}
  },
  {
   "cell_type": "code",
   "execution_count": 23,
   "source": [
    "# train the model\r\n",
    "model.fit(x_train, y_train, batch_size=1, epochs=1)"
   ],
   "outputs": [
    {
     "output_type": "stream",
     "name": "stdout",
     "text": [
      "1892/1892 [==============================] - 318s 165ms/step - loss: 4.1683e-05\n"
     ]
    },
    {
     "output_type": "execute_result",
     "data": {
      "text/plain": [
       "<keras.callbacks.History at 0x1dd9f291088>"
      ]
     },
     "metadata": {},
     "execution_count": 23
    }
   ],
   "metadata": {}
  },
  {
   "cell_type": "code",
   "execution_count": 24,
   "source": [
    "# Create the testing dataset\r\n",
    "# Create a new array from 2014-2517\r\n",
    "test_data = scaled_data[training_data_len - 365: , :]\r\n",
    "\r\n",
    "# Create test data sets x_test and y_test\r\n",
    "x_test = []\r\n",
    "y_test = dataset[training_data_len:, :]\r\n",
    "for i in range(365, len(test_data)):\r\n",
    "    x_test.append(test_data[i-365:i, 0])\r\n",
    "    "
   ],
   "outputs": [],
   "metadata": {}
  },
  {
   "cell_type": "code",
   "execution_count": 25,
   "source": [
    "#Convert data to numpy array\r\n",
    "x_test = np.array(x_test)"
   ],
   "outputs": [],
   "metadata": {}
  },
  {
   "cell_type": "code",
   "execution_count": 26,
   "source": [
    "# Reshape the data\r\n",
    "x_test = np.reshape(x_test, (x_test.shape[0], x_test.shape[1], 1))"
   ],
   "outputs": [],
   "metadata": {}
  },
  {
   "cell_type": "code",
   "execution_count": 27,
   "source": [
    "# Get the Model predicted price values\r\n",
    "predictions = model.predict(x_test)\r\n",
    "predictions = scaler.inverse_transform(predictions)"
   ],
   "outputs": [],
   "metadata": {}
  },
  {
   "cell_type": "code",
   "execution_count": 37,
   "source": [
    "# Get root mean squared error (RMSE)\r\n",
    "# Use other evaluation methods to confirm how good the model is\r\n",
    "rmse = np.sqrt(np.mean(predictions - y_test)**2)\r\n",
    "print(\"Root Mean Square Error (RMSE):\", rmse)"
   ],
   "outputs": [
    {
     "output_type": "stream",
     "name": "stdout",
     "text": [
      "Root Mean Square Error (RMSE): 82.7586033081704\n"
     ]
    }
   ],
   "metadata": {}
  },
  {
   "cell_type": "code",
   "execution_count": 29,
   "source": [
    "#Plot data\r\n",
    "train = data[:training_data_len]\r\n",
    "valid = data[training_data_len:]\r\n",
    "valid['Predictions'] = predictions"
   ],
   "outputs": [
    {
     "output_type": "stream",
     "name": "stderr",
     "text": [
      "C:\\Anaconda\\envs\\mlenv\\lib\\site-packages\\ipykernel_launcher.py:4: SettingWithCopyWarning: \n",
      "A value is trying to be set on a copy of a slice from a DataFrame.\n",
      "Try using .loc[row_indexer,col_indexer] = value instead\n",
      "\n",
      "See the caveats in the documentation: https://pandas.pydata.org/pandas-docs/stable/user_guide/indexing.html#returning-a-view-versus-a-copy\n",
      "  after removing the cwd from sys.path.\n"
     ]
    }
   ],
   "metadata": {}
  },
  {
   "cell_type": "code",
   "execution_count": 34,
   "source": [
    "#Visualize\r\n",
    "plt.figure(figsize=(16,8))\r\n",
    "plt.title('Long Short Term Memory Network Model')\r\n",
    "plt.xlabel('Date', fontsize=18)\r\n",
    "plt.ylabel('Closing Price US$', fontsize=18)\r\n",
    "plt.plot(train['hclose'])\r\n",
    "plt.plot(valid[['hclose', 'Predictions']])\r\n",
    "plt.legend(['Train', 'Val', 'Predictions'], loc='upper left')\r\n"
   ],
   "outputs": [
    {
     "output_type": "execute_result",
     "data": {
      "text/plain": [
       "<matplotlib.legend.Legend at 0x1dda6cc3e48>"
      ]
     },
     "metadata": {},
     "execution_count": 34
    },
    {
     "output_type": "display_data",
     "data": {
      "image/png": "[encoded data removed]",
      "text/plain": [
       "<Figure size 1152x576 with 1 Axes>"
      ]
     },
     "metadata": {}
    }
   ],
   "metadata": {}
  },
  {
   "cell_type": "code",
   "execution_count": 32,
   "source": [
    "# Show the valid vs predicted prices\r\n",
    "valid"
   ],
   "outputs": [
    {
     "output_type": "execute_result",
     "data": {
      "text/html": [
       "<div>\n",
       "<style scoped>\n",
       "    .dataframe tbody tr th:only-of-type {\n",
       "        vertical-align: middle;\n",
       "    }\n",
       "\n",
       "    .dataframe tbody tr th {\n",
       "        vertical-align: top;\n",
       "    }\n",
       "\n",
       "    .dataframe thead th {\n",
       "        text-align: right;\n",
       "    }\n",
       "</style>\n",
       "<table border=\"1\" class=\"dataframe\">\n",
       "  <thead>\n",
       "    <tr style=\"text-align: right;\">\n",
       "      <th></th>\n",
       "      <th>hclose</th>\n",
       "      <th>Predictions</th>\n",
       "    </tr>\n",
       "  </thead>\n",
       "  <tbody>\n",
       "    <tr>\n",
       "      <th>2019-06-18</th>\n",
       "      <td>44.948</td>\n",
       "      <td>47.129501</td>\n",
       "    </tr>\n",
       "    <tr>\n",
       "      <th>2019-06-19</th>\n",
       "      <td>45.286</td>\n",
       "      <td>47.630993</td>\n",
       "    </tr>\n",
       "    <tr>\n",
       "      <th>2019-06-20</th>\n",
       "      <td>43.924</td>\n",
       "      <td>48.106541</td>\n",
       "    </tr>\n",
       "    <tr>\n",
       "      <th>2019-06-21</th>\n",
       "      <td>44.372</td>\n",
       "      <td>48.364769</td>\n",
       "    </tr>\n",
       "    <tr>\n",
       "      <th>2019-06-24</th>\n",
       "      <td>44.728</td>\n",
       "      <td>48.524300</td>\n",
       "    </tr>\n",
       "    <tr>\n",
       "      <th>...</th>\n",
       "      <td>...</td>\n",
       "      <td>...</td>\n",
       "    </tr>\n",
       "    <tr>\n",
       "      <th>2021-09-03</th>\n",
       "      <td>733.570</td>\n",
       "      <td>526.216919</td>\n",
       "    </tr>\n",
       "    <tr>\n",
       "      <th>2021-09-07</th>\n",
       "      <td>752.920</td>\n",
       "      <td>528.050537</td>\n",
       "    </tr>\n",
       "    <tr>\n",
       "      <th>2021-09-08</th>\n",
       "      <td>753.870</td>\n",
       "      <td>530.889038</td>\n",
       "    </tr>\n",
       "    <tr>\n",
       "      <th>2021-09-09</th>\n",
       "      <td>754.860</td>\n",
       "      <td>533.830505</td>\n",
       "    </tr>\n",
       "    <tr>\n",
       "      <th>2021-09-10</th>\n",
       "      <td>736.270</td>\n",
       "      <td>536.446594</td>\n",
       "    </tr>\n",
       "  </tbody>\n",
       "</table>\n",
       "<p>564 rows × 2 columns</p>\n",
       "</div>"
      ],
      "text/plain": [
       "             hclose  Predictions\n",
       "2019-06-18   44.948    47.129501\n",
       "2019-06-19   45.286    47.630993\n",
       "2019-06-20   43.924    48.106541\n",
       "2019-06-21   44.372    48.364769\n",
       "2019-06-24   44.728    48.524300\n",
       "...             ...          ...\n",
       "2021-09-03  733.570   526.216919\n",
       "2021-09-07  752.920   528.050537\n",
       "2021-09-08  753.870   530.889038\n",
       "2021-09-09  754.860   533.830505\n",
       "2021-09-10  736.270   536.446594\n",
       "\n",
       "[564 rows x 2 columns]"
      ]
     },
     "metadata": {},
     "execution_count": 32
    }
   ],
   "metadata": {}
  },
  {
   "cell_type": "code",
   "execution_count": 33,
   "source": [
    "# get the quote\r\n",
    "tesla_quote = web.DataReader('TSLA', data_source='yahoo', start='2011-01-01', end='2021-09-15')"
   ],
   "outputs": [],
   "metadata": {}
  },
  {
   "cell_type": "code",
   "execution_count": 35,
   "source": [
    "# New dataframe\r\n",
    "new_df = tesla_quote.filter(['Close'])\r\n",
    "\r\n",
    "#Get the last 365 days closing price values\r\n",
    "last_365_days = new_df[-365:].values\r\n",
    "\r\n",
    "# Scale the data\r\n",
    "last_365_days_scaled = scaler.transform(last_365_days)\r\n",
    "\r\n",
    "#Create empty list\r\n",
    "X_test = []\r\n",
    "\r\n",
    "# Append the last 365 days\r\n",
    "X_test.append(last_365_days_scaled)\r\n",
    "\r\n",
    "#Convert the X_test data to a numpy array\r\n",
    "X_test = np.array(X_test)\r\n",
    "\r\n",
    "# Reshape the data\r\n",
    "X_test = np.reshape(X_test, (X_test.shape[0], X_test.shape[1], 1))\r\n",
    "\r\n",
    "# Get the predicted scaled price\r\n",
    "pred_price = model.predict(X_test)\r\n",
    "\r\n",
    "# Undo the scaling\r\n",
    "pred_price = scaler.inverse_transform(pred_price)\r\n",
    "print(pred_price)"
   ],
   "outputs": [
    {
     "output_type": "stream",
     "name": "stdout",
     "text": [
      "[[537.56506]]\n"
     ]
    }
   ],
   "metadata": {}
  },
  {
   "cell_type": "code",
   "execution_count": 36,
   "source": [
    "# get the quote for a given future date\r\n",
    "tesla_quote2 = web.DataReader('TSLA', data_source='yahoo', start='2021-09-16', end='2023-09-16')\r\n",
    "print(tesla_quote2)"
   ],
   "outputs": [
    {
     "output_type": "stream",
     "name": "stdout",
     "text": [
      "                  High         Low        Open      Close    Volume  Adj Close\n",
      "Date                                                                          \n",
      "2021-09-16  758.909973  747.609985  752.830017  756.98999  13923400  756.98999\n",
      "2021-09-17  761.039978  750.000000  757.150024  759.48999  28186100  759.48999\n"
     ]
    }
   ],
   "metadata": {}
  }
 ],
 "metadata": {
  "orig_nbformat": 4,
  "language_info": {
   "name": "python",
   "version": "3.7.10",
   "mimetype": "text/x-python",
   "codemirror_mode": {
    "name": "ipython",
    "version": 3
   },
   "pygments_lexer": "ipython3",
   "nbconvert_exporter": "python",
   "file_extension": ".py"
  },
  "kernelspec": {
   "name": "python3",
   "display_name": "Python 3.7.10 64-bit ('mlenv': conda)"
  },
  "interpreter": {
   "hash": "d24b3a1cb0b09410b743c7105fcadb3dc95be8b656bcfbb1aa64d0f08d0f10d7"
  }
 },
 "nbformat": 4,
 "nbformat_minor": 2
}